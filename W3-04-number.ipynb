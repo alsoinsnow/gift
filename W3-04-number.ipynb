{
 "cells": [
  {
   "cell_type": "code",
   "execution_count": 1,
   "metadata": {},
   "outputs": [
    {
     "name": "stdout",
     "output_type": "stream",
     "text": [
      "輸入一個正整數：76\n",
      "76 is deficient number\n"
     ]
    }
   ],
   "source": [
    "n=int(input(\"輸入一個正整數：\"))\n",
    "sum1=0\n",
    "for i in range(1,n):\n",
    "    if (n%i==0):\n",
    "        sum1=sum1+i\n",
    "if (sum1>n):\n",
    "    print(n,\"is abundant number\")\n",
    "if (sum1<n):\n",
    "    print(n,\"is deficient number\")\n",
    "if (sum1==n):\n",
    "    print(n,\"is perfact number\")"
   ]
  },
  {
   "cell_type": "code",
   "execution_count": null,
   "metadata": {},
   "outputs": [],
   "source": []
  }
 ],
 "metadata": {
  "kernelspec": {
   "display_name": "Python 3",
   "language": "python",
   "name": "python3"
  },
  "language_info": {
   "codemirror_mode": {
    "name": "ipython",
    "version": 3
   },
   "file_extension": ".py",
   "mimetype": "text/x-python",
   "name": "python",
   "nbconvert_exporter": "python",
   "pygments_lexer": "ipython3",
   "version": "3.7.3"
  }
 },
 "nbformat": 4,
 "nbformat_minor": 2
}
