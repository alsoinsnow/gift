{
 "cells": [
  {
   "cell_type": "code",
   "execution_count": 30,
   "metadata": {},
   "outputs": [
    {
     "name": "stdout",
     "output_type": "stream",
     "text": [
      "請輸入你對這個項目喜愛的程度，最低0分，最高100分\n",
      "推理&閱讀:78\n",
      "數學&空間:57\n",
      "音樂&美術:66\n",
      "建築&農業:98\n",
      "你是可以橫跨各種領域的綜合型人才!\n"
     ]
    }
   ],
   "source": [
    "## 模擬性向測驗\n",
    "print(\"請輸入你對這個項目喜愛的程度，最低0分，最高100分\")\n",
    "i=int(input(\"推理&閱讀:\"))\n",
    "j=int(input(\"數學&空間:\"))\n",
    "k=int(input(\"音樂&美術:\"))\n",
    "L=int(input(\"建築&農業:\"))\n",
    "\n",
    "if i>=80 and k>=80:\n",
    "    print(\"你是個有藝術天分的人才!\")\n",
    "if j>=80 and L>=80:\n",
    "    print(\"你是團體中的焦點人物!\")\n",
    "if i>=80 and j>=80:\n",
    "    print(\"你是個邏輯能力強的藝術家!\")\n",
    "if i<=20 or j<=20 or k<=20 or L<=20 :\n",
    "    print(\"你還有很多潛在能力沒有發揮!\")\n",
    "else:\n",
    "    print(\"你是可以橫跨各種領域的綜合型人才!\")"
   ]
  },
  {
   "cell_type": "code",
   "execution_count": null,
   "metadata": {},
   "outputs": [],
   "source": []
  }
 ],
 "metadata": {
  "kernelspec": {
   "display_name": "Python 3",
   "language": "python",
   "name": "python3"
  },
  "language_info": {
   "codemirror_mode": {
    "name": "ipython",
    "version": 3
   },
   "file_extension": ".py",
   "mimetype": "text/x-python",
   "name": "python",
   "nbconvert_exporter": "python",
   "pygments_lexer": "ipython3",
   "version": "3.7.3"
  }
 },
 "nbformat": 4,
 "nbformat_minor": 2
}
