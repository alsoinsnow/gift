{
 "cells": [
  {
   "cell_type": "code",
   "execution_count": 4,
   "metadata": {},
   "outputs": [
    {
     "name": "stdout",
     "output_type": "stream",
     "text": [
      "請輸入通關密語:我要跟你說個秘密\n",
      "['I LOVE YOU']\n"
     ]
    }
   ],
   "source": [
    "list=[\"我\",\"要\",\"跟\",\"你\"\n",
    "      \"說\",\"個\",\"秘密\"]\n",
    "L=[]\n",
    "N=1\n",
    "for i in range(N):\n",
    "    C0=input(\"請輸入通關密語:\")\n",
    "    \n",
    "    if C0== \"我要跟你說個秘密\":\n",
    "        L.append(\"I LOVE YOU\")\n",
    "    else:\n",
    "        L.append(\"Could you try again?\")\n",
    "     \n",
    "print(L)"
   ]
  },
  {
   "cell_type": "code",
   "execution_count": 1,
   "metadata": {},
   "outputs": [
    {
     "name": "stdout",
     "output_type": "stream",
     "text": [
      "請輸入通關密語:甚麼?\n",
      "['Could you try again?']\n"
     ]
    }
   ],
   "source": [
    "list=[\"我\",\"要\",\"跟\",\"你\"\n",
    "      \"說\",\"個\",\"秘密\"]\n",
    "L=[]\n",
    "N=1\n",
    "for i in range(N):\n",
    "    C0=input(\"請輸入通關密語:\")\n",
    "    \n",
    "    if C0== \"我要跟你說個秘密\":\n",
    "        L.append(\"I LOVE YOU\")\n",
    "    else:\n",
    "        L.append(\"Could you try again?\")\n",
    "     \n",
    "print(L)"
   ]
  },
  {
   "cell_type": "code",
   "execution_count": null,
   "metadata": {},
   "outputs": [],
   "source": []
  },
  {
   "cell_type": "code",
   "execution_count": null,
   "metadata": {},
   "outputs": [],
   "source": [
    "\n"
   ]
  }
 ],
 "metadata": {
  "kernelspec": {
   "display_name": "Python 3",
   "language": "python",
   "name": "python3"
  },
  "language_info": {
   "codemirror_mode": {
    "name": "ipython",
    "version": 3
   },
   "file_extension": ".py",
   "mimetype": "text/x-python",
   "name": "python",
   "nbconvert_exporter": "python",
   "pygments_lexer": "ipython3",
   "version": "3.7.3"
  }
 },
 "nbformat": 4,
 "nbformat_minor": 2
}
