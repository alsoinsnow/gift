{
 "cells": [
  {
   "cell_type": "code",
   "execution_count": 1,
   "metadata": {},
   "outputs": [],
   "source": [
    "from IPython.display import display,HTML,Markdown,Image,YouTubeVideo"
   ]
  },
  {
   "cell_type": "code",
   "execution_count": 10,
   "metadata": {},
   "outputs": [
    {
     "name": "stdout",
     "output_type": "stream",
     "text": [
      "姓名: 小蘭\n",
      "來自: 天空\n",
      "歡迎來自天空的小蘭。\n"
     ]
    }
   ],
   "source": [
    "name=input(\"姓名: \")\n",
    "city=input(\"來自: \")\n",
    "message = \"歡迎來自{}的{}。\".format(city,name)\n",
    "print(message)"
   ]
  },
  {
   "cell_type": "code",
   "execution_count": 15,
   "metadata": {},
   "outputs": [
    {
     "name": "stdout",
     "output_type": "stream",
     "text": [
      "姓名: snow\n",
      "來自: sky\n"
     ]
    },
    {
     "data": {
      "text/markdown": [
       "## message"
      ],
      "text/plain": [
       "<IPython.core.display.Markdown object>"
      ]
     },
     "metadata": {},
     "output_type": "display_data"
    }
   ],
   "source": [
    "name=input(\"姓名: \")\n",
    "city=input(\"來自: \")\n",
    "message = \"歡迎來自{}的{}。\".format(city,name)\n",
    "display(Markdown(\"## message\"))"
   ]
  },
  {
   "cell_type": "code",
   "execution_count": 16,
   "metadata": {},
   "outputs": [
    {
     "name": "stdout",
     "output_type": "stream",
     "text": [
      "姓名: snow\n",
      "來自: sky\n"
     ]
    },
    {
     "data": {
      "text/markdown": [
       "## 歡迎來自sky的snow。"
      ],
      "text/plain": [
       "<IPython.core.display.Markdown object>"
      ]
     },
     "metadata": {},
     "output_type": "display_data"
    }
   ],
   "source": [
    "name=input(\"姓名: \")\n",
    "city=input(\"來自: \")\n",
    "display(Markdown(\"## 歡迎來自{}的{}。\".format(city,name)))"
   ]
  },
  {
   "cell_type": "code",
   "execution_count": null,
   "metadata": {},
   "outputs": [],
   "source": []
  }
 ],
 "metadata": {
  "kernelspec": {
   "display_name": "Python 3",
   "language": "python",
   "name": "python3"
  },
  "language_info": {
   "codemirror_mode": {
    "name": "ipython",
    "version": 3
   },
   "file_extension": ".py",
   "mimetype": "text/x-python",
   "name": "python",
   "nbconvert_exporter": "python",
   "pygments_lexer": "ipython3",
   "version": "3.7.3"
  }
 },
 "nbformat": 4,
 "nbformat_minor": 2
}
