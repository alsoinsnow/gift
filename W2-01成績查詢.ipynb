{
 "cells": [
  {
   "cell_type": "code",
   "execution_count": 11,
   "metadata": {},
   "outputs": [
    {
     "name": "stdout",
     "output_type": "stream",
     "text": [
      "班級: 708\n",
      "座號: 08\n",
      "名字:花輪\n",
      "期中考:80\n",
      "期末考:70\n"
     ]
    },
    {
     "data": {
      "text/markdown": [
       "## 歡迎708班的08號花輪同學，你這次的學期成績是75分。"
      ],
      "text/plain": [
       "<IPython.core.display.Markdown object>"
      ]
     },
     "metadata": {},
     "output_type": "display_data"
    }
   ],
   "source": [
    "## 成績查詢\n",
    "from IPython.display import display,HTML,Markdown,Image,YouTubeVideo\n",
    "\n",
    "c=input(\"班級: \")\n",
    "nu=input(\"座號: \")\n",
    "n=input(\"名字:\")\n",
    "a=int(input(\"期中考:\"))\n",
    "b=int(input(\"期末考:\"))\n",
    "z=(int((a+b)/2))\n",
    "display(Markdown(\"## 歡迎{}班的{}號{}同學，你這次的學期成績是{}分。\".format(c,nu,n,z)))\n"
   ]
  },
  {
   "cell_type": "code",
   "execution_count": null,
   "metadata": {},
   "outputs": [],
   "source": []
  },
  {
   "cell_type": "code",
   "execution_count": null,
   "metadata": {},
   "outputs": [],
   "source": []
  },
  {
   "cell_type": "code",
   "execution_count": null,
   "metadata": {},
   "outputs": [],
   "source": []
  },
  {
   "cell_type": "code",
   "execution_count": null,
   "metadata": {},
   "outputs": [],
   "source": []
  }
 ],
 "metadata": {
  "kernelspec": {
   "display_name": "Python 3",
   "language": "python",
   "name": "python3"
  },
  "language_info": {
   "codemirror_mode": {
    "name": "ipython",
    "version": 3
   },
   "file_extension": ".py",
   "mimetype": "text/x-python",
   "name": "python",
   "nbconvert_exporter": "python",
   "pygments_lexer": "ipython3",
   "version": "3.7.3"
  }
 },
 "nbformat": 4,
 "nbformat_minor": 2
}
