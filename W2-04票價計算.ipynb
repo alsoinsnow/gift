{
 "cells": [
  {
   "cell_type": "code",
   "execution_count": 7,
   "metadata": {},
   "outputs": [
    {
     "name": "stdout",
     "output_type": "stream",
     "text": [
      "請輸入年齡:4\n",
      "票價是: 20\n"
     ]
    }
   ],
   "source": [
    "n=input(\"請輸入年齡:\")\n",
    "m=int(n)\n",
    "ticket=100\n",
    "\n",
    "if m<=6 or m>=65:\n",
    "    ticket=ticket*0.2\n",
    "    print(\"票價是: %d\" % ticket)\n",
    "else:\n",
    "    print(\"票價是: %d\" % ticket)\n",
    "    "
   ]
  },
  {
   "cell_type": "code",
   "execution_count": null,
   "metadata": {},
   "outputs": [],
   "source": []
  }
 ],
 "metadata": {
  "kernelspec": {
   "display_name": "Python 3",
   "language": "python",
   "name": "python3"
  },
  "language_info": {
   "codemirror_mode": {
    "name": "ipython",
    "version": 3
   },
   "file_extension": ".py",
   "mimetype": "text/x-python",
   "name": "python",
   "nbconvert_exporter": "python",
   "pygments_lexer": "ipython3",
   "version": "3.7.3"
  }
 },
 "nbformat": 4,
 "nbformat_minor": 2
}
