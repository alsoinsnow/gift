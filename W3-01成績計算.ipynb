{
 "cells": [
  {
   "cell_type": "code",
   "execution_count": 14,
   "metadata": {},
   "outputs": [
    {
     "name": "stdout",
     "output_type": "stream",
     "text": [
      "1 238\n",
      "2 203\n",
      "3 201\n",
      "4 282\n",
      "5 254\n",
      "6 208\n",
      "7 218\n",
      "8 263\n",
      "9 137\n",
      "10 120\n"
     ]
    }
   ],
   "source": [
    "\n",
    "Chinese=[0,80,77,75,93,85,55,99,87,32,64,72]\n",
    "English=[0,88,76,60,99,70,77,72,95,42,35,67]\n",
    "Math=[0,70,50,66,90,99,76,47,81,63,21,54,59]\n",
    "\n",
    "N=[]\n",
    "for i in range(1,11):\n",
    "    N1=Chinese[i]+English[i]+Math[i]\n",
    "    print(i,N1)"
   ]
  },
  {
   "cell_type": "code",
   "execution_count": null,
   "metadata": {},
   "outputs": [],
   "source": []
  }
 ],
 "metadata": {
  "kernelspec": {
   "display_name": "Python 3",
   "language": "python",
   "name": "python3"
  },
  "language_info": {
   "codemirror_mode": {
    "name": "ipython",
    "version": 3
   },
   "file_extension": ".py",
   "mimetype": "text/x-python",
   "name": "python",
   "nbconvert_exporter": "python",
   "pygments_lexer": "ipython3",
   "version": "3.7.3"
  }
 },
 "nbformat": 4,
 "nbformat_minor": 2
}
