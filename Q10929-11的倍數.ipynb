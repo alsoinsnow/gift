{
 "cells": [
  {
   "cell_type": "code",
   "execution_count": 12,
   "metadata": {},
   "outputs": [
    {
     "name": "stdout",
     "output_type": "stream",
     "text": [
      "112233\n",
      "112233 is a multiple of 11\n"
     ]
    }
   ],
   "source": [
    "n=int(input())\n",
    "while n!=0:\n",
    "    if (n%11 == 0):\n",
    "        s=(str(n)+\" is a multiple of 11\")\n",
    "        print(s)\n",
    "        break\n",
    "    else :\n",
    "        print(str(n)+\" is not a multiple of 11\")\n",
    "        break\n",
    "        "
   ]
  },
  {
   "cell_type": "code",
   "execution_count": 13,
   "metadata": {},
   "outputs": [
    {
     "name": "stdout",
     "output_type": "stream",
     "text": [
      "30800\n",
      "30800 is a multiple of 11\n"
     ]
    }
   ],
   "source": [
    "n=int(input())\n",
    "while n!=0:\n",
    "    if (n%11 == 0):\n",
    "        s=(str(n)+\" is a multiple of 11\")\n",
    "        print(s)\n",
    "        break\n",
    "    else :\n",
    "        print(str(n)+\" is not a multiple of 11\")\n",
    "        break"
   ]
  },
  {
   "cell_type": "code",
   "execution_count": 14,
   "metadata": {},
   "outputs": [
    {
     "name": "stdout",
     "output_type": "stream",
     "text": [
      "2937\n",
      "2937 is a multiple of 11\n"
     ]
    }
   ],
   "source": [
    "n=int(input())\n",
    "while n!=0:\n",
    "    if (n%11 == 0):\n",
    "        s=(str(n)+\" is a multiple of 11\")\n",
    "        print(s)\n",
    "        break\n",
    "    else :\n",
    "        print(str(n)+\" is not a multiple of 11\")\n",
    "        break        "
   ]
  },
  {
   "cell_type": "code",
   "execution_count": 15,
   "metadata": {},
   "outputs": [
    {
     "name": "stdout",
     "output_type": "stream",
     "text": [
      "323455693\n",
      "323455693 is a multiple of 11\n"
     ]
    }
   ],
   "source": [
    "n=int(input())\n",
    "while n!=0:\n",
    "    if (n%11 == 0):\n",
    "        s=(str(n)+\" is a multiple of 11\")\n",
    "        print(s)\n",
    "        break\n",
    "    else :\n",
    "        print(str(n)+\" is not a multiple of 11\")\n",
    "        break        "
   ]
  },
  {
   "cell_type": "code",
   "execution_count": 16,
   "metadata": {},
   "outputs": [
    {
     "name": "stdout",
     "output_type": "stream",
     "text": [
      "5038297\n",
      "5038297 is a multiple of 11\n"
     ]
    }
   ],
   "source": [
    "n=int(input())\n",
    "while n!=0:\n",
    "    if (n%11 == 0):\n",
    "        s=(str(n)+\" is a multiple of 11\")\n",
    "        print(s)\n",
    "        break\n",
    "    else :\n",
    "        print(str(n)+\" is not a multiple of 11\")\n",
    "        break   "
   ]
  },
  {
   "cell_type": "code",
   "execution_count": 17,
   "metadata": {},
   "outputs": [
    {
     "name": "stdout",
     "output_type": "stream",
     "text": [
      "112234\n",
      "112234 is not a multiple of 11\n"
     ]
    }
   ],
   "source": [
    "n=int(input())\n",
    "while n!=0:\n",
    "    if (n%11 == 0):\n",
    "        s=(str(n)+\" is a multiple of 11\")\n",
    "        print(s)\n",
    "        break\n",
    "    else :\n",
    "        print(str(n)+\" is not a multiple of 11\")\n",
    "        break   "
   ]
  },
  {
   "cell_type": "code",
   "execution_count": 18,
   "metadata": {},
   "outputs": [
    {
     "name": "stdout",
     "output_type": "stream",
     "text": [
      "0\n"
     ]
    }
   ],
   "source": [
    "n=int(input())\n",
    "while n!=0:\n",
    "    if (n%11 == 0):\n",
    "        s=(str(n)+\" is a multiple of 11\")\n",
    "        print(s)\n",
    "        break\n",
    "    else :\n",
    "        print(str(n)+\" is not a multiple of 11\")\n",
    "        break   "
   ]
  },
  {
   "cell_type": "code",
   "execution_count": null,
   "metadata": {},
   "outputs": [],
   "source": []
  }
 ],
 "metadata": {
  "kernelspec": {
   "display_name": "Python 3",
   "language": "python",
   "name": "python3"
  },
  "language_info": {
   "codemirror_mode": {
    "name": "ipython",
    "version": 3
   },
   "file_extension": ".py",
   "mimetype": "text/x-python",
   "name": "python",
   "nbconvert_exporter": "python",
   "pygments_lexer": "ipython3",
   "version": "3.7.3"
  }
 },
 "nbformat": 4,
 "nbformat_minor": 2
}
